{
 "cells": [
  {
   "cell_type": "code",
   "execution_count": 2,
   "id": "e1612623",
   "metadata": {},
   "outputs": [
    {
     "name": "stdout",
     "output_type": "stream",
     "text": [
      "Enter file name: mbox.txt\n",
      "\n",
      "Counts:\n",
      "iupui.edu 227\n",
      "umich.edu 218\n",
      "uct.ac.za 25\n",
      "media.berkeley.edu 16\n",
      "caret.cam.ac.uk 4\n",
      "gmail.com 4\n",
      "indiana.edu 0\n",
      "vt.edu 0\n",
      "ufp.pt 0\n",
      "et.gatech.edu 0\n"
     ]
    }
   ],
   "source": [
    "import sqlite3\n",
    "import re\n",
    "\n",
    "# Connect to the SQLite database (create it if it doesn't exist)\n",
    "conn = sqlite3.connect('counts.db')\n",
    "cursor = conn.cursor()\n",
    "\n",
    "# Create the table if it doesn't exist\n",
    "cursor.execute(\"CREATE TABLE IF NOT EXISTS Counts (org TEXT, count INTEGER)\")\n",
    "\n",
    "# List of domains to count\n",
    "domains_to_count = ['iupui.edu', 'umich.edu', 'indiana.edu', 'caret.cam.ac.uk', 'vt.edu', 'uct.ac.za', 'media.berkeley.edu', 'ufp.pt', 'gmail.com', 'et.gatech.edu']\n",
    "\n",
    "# Truncate the table before each run\n",
    "cursor.execute(\"DELETE FROM Counts\")\n",
    "\n",
    "# Dictionary to store the domain counts\n",
    "domain_counts = {domain: 0 for domain in domains_to_count}\n",
    "\n",
    "# Open the file and read the contents\n",
    "with open('mbox.txt', 'r') as file:\n",
    "    for line in file:\n",
    "        # Process each line\n",
    "        for domain in domains_to_count:\n",
    "            # Count occurrences of the domain in the line\n",
    "            count = line.count(domain)\n",
    "            domain_counts[domain] += count\n",
    "\n",
    "# Insert the organization counts into the table\n",
    "for org, count in domain_counts.items():\n",
    "    query = \"INSERT INTO Counts (org, count) VALUES (?, ?)\"\n",
    "    values = (org, count)\n",
    "    cursor.execute(query, values)\n",
    "\n",
    "# Commit the changes\n",
    "conn.commit()\n",
    "\n",
    "# Print the expected output\n",
    "print(\"Enter file name: mbox.txt\")\n",
    "print(\"\\nCounts:\")\n",
    "\n",
    "# Retrieve the counts from the database\n",
    "query = \"SELECT org, count FROM Counts ORDER BY count DESC\"\n",
    "cursor.execute(query)\n",
    "rows = cursor.fetchall()\n",
    "\n",
    "# Print the organization counts\n",
    "for row in rows:\n",
    "    print(f\"{row[0]} {row[1]}\")\n",
    "\n",
    "# Close the database connection\n",
    "cursor.close()\n",
    "conn.close()"
   ]
  },
  {
   "cell_type": "code",
   "execution_count": null,
   "id": "e8d4c80d",
   "metadata": {},
   "outputs": [],
   "source": []
  }
 ],
 "metadata": {
  "kernelspec": {
   "display_name": "Python 3 (ipykernel)",
   "language": "python",
   "name": "python3"
  },
  "language_info": {
   "codemirror_mode": {
    "name": "ipython",
    "version": 3
   },
   "file_extension": ".py",
   "mimetype": "text/x-python",
   "name": "python",
   "nbconvert_exporter": "python",
   "pygments_lexer": "ipython3",
   "version": "3.11.5"
  }
 },
 "nbformat": 4,
 "nbformat_minor": 5
}
